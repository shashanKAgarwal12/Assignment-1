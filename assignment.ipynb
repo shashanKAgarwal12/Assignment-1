{
 "cells": [
  {
   "cell_type": "markdown",
   "id": "a8804b11-2aff-4ffc-8c93-fd67fa35263b",
   "metadata": {},
   "source": [
    "Answer No1."
   ]
  },
  {
   "cell_type": "code",
   "execution_count": 9,
   "id": "788bdbae-0c77-4aa1-bb31-1e05e179ef71",
   "metadata": {},
   "outputs": [
    {
     "data": {
      "text/plain": [
       "str"
      ]
     },
     "execution_count": 9,
     "metadata": {},
     "output_type": "execute_result"
    }
   ],
   "source": [
    "name=\"shashank\"\n",
    "type(name)"
   ]
  },
  {
   "cell_type": "code",
   "execution_count": 2,
   "id": "1e75f140-0efd-43c4-a5c8-fec1f64d6685",
   "metadata": {},
   "outputs": [
    {
     "data": {
      "text/plain": [
       "list"
      ]
     },
     "execution_count": 2,
     "metadata": {},
     "output_type": "execute_result"
    }
   ],
   "source": [
    "list=[1,2,3,4,\"shashank\",20.30,True]\n",
    "type(list)"
   ]
  },
  {
   "cell_type": "code",
   "execution_count": 3,
   "id": "2b08cb0c-03b4-4634-9734-ed2ed01ae2d2",
   "metadata": {},
   "outputs": [
    {
     "data": {
      "text/plain": [
       "float"
      ]
     },
     "execution_count": 3,
     "metadata": {},
     "output_type": "execute_result"
    }
   ],
   "source": [
    "a=50.60\n",
    "type(a)"
   ]
  },
  {
   "cell_type": "code",
   "execution_count": 1,
   "id": "45cd22cb-11a4-4d5c-94bc-f07088ba2af0",
   "metadata": {},
   "outputs": [
    {
     "data": {
      "text/plain": [
       "tuple"
      ]
     },
     "execution_count": 1,
     "metadata": {},
     "output_type": "execute_result"
    }
   ],
   "source": [
    "t=(\"apple\",\"mango\",\"orange\")\n",
    "type(t)"
   ]
  },
  {
   "cell_type": "code",
   "execution_count": 8,
   "id": "4a6dd59c-afbb-4bb0-9ed4-32b3ceb7d683",
   "metadata": {},
   "outputs": [
    {
     "data": {
      "text/plain": [
       "str"
      ]
     },
     "execution_count": 8,
     "metadata": {},
     "output_type": "execute_result"
    }
   ],
   "source": [
    "#Answer No.2\n",
    "\n",
    "var1=''\n",
    "type(var1)"
   ]
  },
  {
   "cell_type": "code",
   "execution_count": 4,
   "id": "4e6c1c86-e63f-4e1b-9d47-d0663cb10b73",
   "metadata": {},
   "outputs": [
    {
     "data": {
      "text/plain": [
       "str"
      ]
     },
     "execution_count": 4,
     "metadata": {},
     "output_type": "execute_result"
    }
   ],
   "source": [
    "var2='[DS,ML,Python]'\n",
    "type(var2)"
   ]
  },
  {
   "cell_type": "code",
   "execution_count": 6,
   "id": "23ad0fa4-d81c-4714-b6b7-177de1747219",
   "metadata": {},
   "outputs": [
    {
     "data": {
      "text/plain": [
       "list"
      ]
     },
     "execution_count": 6,
     "metadata": {},
     "output_type": "execute_result"
    }
   ],
   "source": [
    "var3=['DS','ML','Python']\n",
    "type(var3)"
   ]
  },
  {
   "cell_type": "code",
   "execution_count": 7,
   "id": "6aa89eac-adb3-4713-a9ca-75fe33cdb92c",
   "metadata": {},
   "outputs": [
    {
     "data": {
      "text/plain": [
       "int"
      ]
     },
     "execution_count": 7,
     "metadata": {},
     "output_type": "execute_result"
    }
   ],
   "source": [
    "var4=1\n",
    "type(var4)"
   ]
  },
  {
   "cell_type": "markdown",
   "id": "82cf25c5-590f-4ceb-aac2-aa17dce0fde0",
   "metadata": {},
   "source": [
    "#Answer No.3\n",
    "\n",
    "# / - This operator is used for division"
   ]
  },
  {
   "cell_type": "code",
   "execution_count": 1,
   "id": "40669633-7beb-4f09-8cd2-ada3ad8b995c",
   "metadata": {},
   "outputs": [
    {
     "data": {
      "text/plain": [
       "2.0"
      ]
     },
     "execution_count": 1,
     "metadata": {},
     "output_type": "execute_result"
    }
   ],
   "source": [
    "a=10\n",
    "b=5\n",
    "c=a/b\n",
    "c"
   ]
  },
  {
   "cell_type": "markdown",
   "id": "b347752e-642a-4d74-9974-a22b2e5a89f2",
   "metadata": {},
   "source": [
    "# % - his operator is used for module the value\"\n",
    "\n"
   ]
  },
  {
   "cell_type": "code",
   "execution_count": 2,
   "id": "365ece86-84c9-47f6-b774-c641653d26ca",
   "metadata": {},
   "outputs": [
    {
     "data": {
      "text/plain": [
       "0"
      ]
     },
     "execution_count": 2,
     "metadata": {},
     "output_type": "execute_result"
    }
   ],
   "source": [
    "a=10\n",
    "b=5\n",
    "c=a%b\n",
    "c"
   ]
  },
  {
   "cell_type": "markdown",
   "id": "471fdcb8-7d81-45ff-a281-c63a8361aea4",
   "metadata": {},
   "source": [
    "# // - This operator is used for division flor the value\n"
   ]
  },
  {
   "cell_type": "code",
   "execution_count": 3,
   "id": "3d0adb51-f46b-46f6-86e6-286fb2b55881",
   "metadata": {},
   "outputs": [
    {
     "data": {
      "text/plain": [
       "2"
      ]
     },
     "execution_count": 3,
     "metadata": {},
     "output_type": "execute_result"
    }
   ],
   "source": [
    "a=10\n",
    "b=5\n",
    "c=a//b\n",
    "c"
   ]
  },
  {
   "cell_type": "markdown",
   "id": "59857441-9768-4bca-8694-a1dc95eef521",
   "metadata": {},
   "source": [
    "## ** - This operator is called Exponent operator. It is used to raise the numbre to a power\n"
   ]
  },
  {
   "cell_type": "code",
   "execution_count": 4,
   "id": "ac225e30-f2bc-4dc1-bd19-e35516609aab",
   "metadata": {},
   "outputs": [
    {
     "data": {
      "text/plain": [
       "8"
      ]
     },
     "execution_count": 4,
     "metadata": {},
     "output_type": "execute_result"
    }
   ],
   "source": [
    "a=2\n",
    "b=3 \n",
    "c=a**b\n",
    "c"
   ]
  },
  {
   "cell_type": "markdown",
   "id": "632e0be1-0167-4b1a-beec-8c56adf6aa6b",
   "metadata": {},
   "source": [
    "#Answer No.4"
   ]
  },
  {
   "cell_type": "code",
   "execution_count": 5,
   "id": "331cb938-d83f-48db-92c1-464ade006555",
   "metadata": {},
   "outputs": [
    {
     "name": "stdout",
     "output_type": "stream",
     "text": [
      "1 <class 'int'>\n",
      "2 <class 'int'>\n",
      "3 <class 'int'>\n",
      "4.5 <class 'float'>\n",
      "Ram <class 'str'>\n",
      "15.3 <class 'float'>\n",
      "True <class 'bool'>\n",
      "(45+5j) <class 'complex'>\n",
      "my list <class 'str'>\n"
     ]
    }
   ],
   "source": [
    "l=[1,2,3,4.5,\"Ram\",15.30,True,45+5j,\"my list\"]\n",
    "for i in l :\n",
    "    print(i,type(i))"
   ]
  },
  {
   "cell_type": "markdown",
   "id": "c115d44e-6d93-43df-988c-de4866b556b6",
   "metadata": {},
   "source": [
    "#Answer No.5 "
   ]
  },
  {
   "cell_type": "code",
   "execution_count": 6,
   "id": "127dece5-c699-426f-afa8-883eb3e23488",
   "metadata": {},
   "outputs": [
    {
     "name": "stdout",
     "output_type": "stream",
     "text": [
      "A is divisible bt B 4 times\n"
     ]
    }
   ],
   "source": [
    "A= 80\n",
    "B= 2\n",
    "count=0\n",
    "while A % B==0:\n",
    "    A=A/B\n",
    "    count+=1\n",
    "print(\"A is divisible bt B\",count,\"times\")   "
   ]
  },
  {
   "cell_type": "code",
   "execution_count": 55,
   "id": "beaa476e-452f-4f75-9638-a15344116c4b",
   "metadata": {},
   "outputs": [
    {
     "name": "stdout",
     "output_type": "stream",
     "text": [
      "1 is not divisible by 3\n",
      "2 is not divisible by 3\n",
      "3 is divisible by 3\n",
      "4 is not divisible by 3\n",
      "5 is not divisible by 3\n",
      "6 is divisible by 3\n",
      "7 is not divisible by 3\n",
      "8 is not divisible by 3\n",
      "9 is divisible by 3\n",
      "10 is not divisible by 3\n",
      "11 is not divisible by 3\n",
      "12 is divisible by 3\n",
      "13 is not divisible by 3\n",
      "14 is not divisible by 3\n",
      "15 is divisible by 3\n",
      "16 is not divisible by 3\n",
      "17 is not divisible by 3\n",
      "18 is divisible by 3\n",
      "19 is not divisible by 3\n",
      "20 is not divisible by 3\n",
      "21 is divisible by 3\n",
      "22 is not divisible by 3\n",
      "23 is not divisible by 3\n",
      "24 is divisible by 3\n",
      "25 is not divisible by 3\n"
     ]
    }
   ],
   "source": [
    "#Answer No.6\n",
    "\n",
    "l1=[]\n",
    "for i in range(1,26):\n",
    "    l1.append(i)\n",
    "for num in l1:\n",
    "    if num % 3==0:\n",
    "        print(num,\"is divisible by 3\")\n",
    "    else:\n",
    "        print(num,\"is not divisible by 3\")    "
   ]
  },
  {
   "cell_type": "markdown",
   "id": "b9678f23-c39b-4910-bbe1-3ffd22e0c031",
   "metadata": {},
   "source": [
    "#Answer No.7\n",
    "\"\"\"The mutable data types are those which can change or modified after the creation,\n",
    "while immutable data types can not be changed once they created\"\"\"  \n",
    "# Example of mutable data type\n"
   ]
  },
  {
   "cell_type": "code",
   "execution_count": 7,
   "id": "d0dd757e-d4ba-48d6-b67d-e6c41d3b04d3",
   "metadata": {},
   "outputs": [
    {
     "data": {
      "text/plain": [
       "[1, 7, 4, 5, 6]"
      ]
     },
     "execution_count": 7,
     "metadata": {},
     "output_type": "execute_result"
    }
   ],
   "source": [
    "l2=[1,2,3,4,5]\n",
    "l2.append(6)\n",
    "l2[1]=7\n",
    "l2.remove(3)\n",
    "l2\n",
    "# The  mutable data types are list, dictionaries"
   ]
  },
  {
   "cell_type": "markdown",
   "id": "cf2f5431-254f-4605-928a-407a1a84f7d6",
   "metadata": {},
   "source": [
    "# Example of immutable data type\n",
    "# we can not change the letter of the string it will occurs the error \n",
    "# The  immutable data types are string, tuple, integer, etc."
   ]
  },
  {
   "cell_type": "code",
   "execution_count": 8,
   "id": "ff89125b-eff3-4a99-9653-cbcb786992ca",
   "metadata": {},
   "outputs": [
    {
     "ename": "NameError",
     "evalue": "name 's' is not defined",
     "output_type": "error",
     "traceback": [
      "\u001b[0;31m---------------------------------------------------------------------------\u001b[0m",
      "\u001b[0;31mNameError\u001b[0m                                 Traceback (most recent call last)",
      "Cell \u001b[0;32mIn[8], line 2\u001b[0m\n\u001b[1;32m      1\u001b[0m name\u001b[38;5;241m=\u001b[39m\u001b[38;5;124m\"\u001b[39m\u001b[38;5;124mshashank\u001b[39m\u001b[38;5;124m\"\u001b[39m\n\u001b[0;32m----> 2\u001b[0m name[\u001b[38;5;241m2\u001b[39m]\u001b[38;5;241m=\u001b[39m\u001b[43ms\u001b[49m \n",
      "\u001b[0;31mNameError\u001b[0m: name 's' is not defined"
     ]
    }
   ],
   "source": [
    "name=\"shashank\"\n",
    "name[2]=s "
   ]
  }
 ],
 "metadata": {
  "kernelspec": {
   "display_name": "Python 3 (ipykernel)",
   "language": "python",
   "name": "python3"
  },
  "language_info": {
   "codemirror_mode": {
    "name": "ipython",
    "version": 3
   },
   "file_extension": ".py",
   "mimetype": "text/x-python",
   "name": "python",
   "nbconvert_exporter": "python",
   "pygments_lexer": "ipython3",
   "version": "3.10.8"
  }
 },
 "nbformat": 4,
 "nbformat_minor": 5
}
